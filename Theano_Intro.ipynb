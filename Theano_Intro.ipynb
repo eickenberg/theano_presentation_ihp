{
 "cells": [
  {
   "cell_type": "markdown",
   "metadata": {},
   "source": [
    "# Very quick presentation of Theano for neural nets\n",
    "\n",
    "**Theano** is a compiler for mathematical expressions written in Theano. Devise any mathematical expression in the syntax of the well-established core numerics package **numpy**, and Theano will create C-code to evaluate this expression and compile it. It is also possible to generate cuda-code for GPU by simply changing a flag. Of great interest is also the fact that gradients for any scalar function can be calculated automatically, making gradient errors in the construction and training of neural networks a thing of the past.\n",
    "\n",
    "### Structure of this notebook\n",
    "- a micro-presentation of numpy\n",
    "- a micro-introduction to Theano\n",
    "- a logistic regression with Theano\n",
    "- an XOR network with Theano\n",
    "- a multi-layer perceptron with Theano\n",
    "\n",
    "### Preamble\n",
    "At the beginning of an IPython notebook, we try to do all the necessary imports"
   ]
  },
  {
   "cell_type": "code",
   "execution_count": 1,
   "metadata": {
    "collapsed": false,
    "scrolled": false
   },
   "outputs": [
    {
     "name": "stdout",
     "output_type": "stream",
     "text": [
      "cpu\n"
     ]
    }
   ],
   "source": [
    "import os\n",
    "os.environ['THEANO_FLAGS']=\"device='cpu'\"\n",
    "\n",
    "import numpy as np\n",
    "import theano\n",
    "import theano.tensor as T\n",
    "\n",
    "print theano.config.device\n",
    "\n",
    "%matplotlib inline\n",
    "import matplotlib.pyplot as plt"
   ]
  },
  {
   "cell_type": "markdown",
   "metadata": {
    "collapsed": false
   },
   "source": [
    "### Numpy\n",
    "\n",
    "Numpy is the core numerics package in Python. It is centered around array processing exactly like matlab, and provides a very user-friendly front-end to highly optimized numerical libraries."
   ]
  },
  {
   "cell_type": "code",
   "execution_count": 2,
   "metadata": {
    "collapsed": false
   },
   "outputs": [
    {
     "data": {
      "text/plain": [
       "array([ 0.,  0.,  0.,  0.,  0.,  0.,  0.,  0.,  0.,  0.])"
      ]
     },
     "execution_count": 2,
     "metadata": {},
     "output_type": "execute_result"
    }
   ],
   "source": [
    "np.zeros(10)"
   ]
  },
  {
   "cell_type": "code",
   "execution_count": 4,
   "metadata": {
    "collapsed": false
   },
   "outputs": [
    {
     "data": {
      "text/plain": [
       "array([ 1.,  0.,  0.,  0.,  0.])"
      ]
     },
     "execution_count": 4,
     "metadata": {},
     "output_type": "execute_result"
    }
   ],
   "source": [
    "a = np.zeros(5)\n",
    "a[0] = 1\n",
    "a"
   ]
  },
  {
   "cell_type": "code",
   "execution_count": 6,
   "metadata": {
    "collapsed": false
   },
   "outputs": [
    {
     "data": {
      "text/plain": [
       "array([ 1.,  2.,  0.,  0.,  0.])"
      ]
     },
     "execution_count": 6,
     "metadata": {},
     "output_type": "execute_result"
    }
   ],
   "source": [
    "a[1] = 2\n",
    "a"
   ]
  },
  {
   "cell_type": "code",
   "execution_count": 7,
   "metadata": {
    "collapsed": true
   },
   "outputs": [],
   "source": [
    "a[2:4] = 5"
   ]
  },
  {
   "cell_type": "code",
   "execution_count": 8,
   "metadata": {
    "collapsed": false
   },
   "outputs": [
    {
     "data": {
      "text/plain": [
       "array([ 1.,  2.,  5.,  5.,  0.])"
      ]
     },
     "execution_count": 8,
     "metadata": {},
     "output_type": "execute_result"
    }
   ],
   "source": [
    "a"
   ]
  },
  {
   "cell_type": "code",
   "execution_count": 9,
   "metadata": {
    "collapsed": true
   },
   "outputs": [],
   "source": [
    "a[-1] = 10"
   ]
  },
  {
   "cell_type": "code",
   "execution_count": 10,
   "metadata": {
    "collapsed": false
   },
   "outputs": [
    {
     "data": {
      "text/plain": [
       "array([  1.,   2.,   5.,   5.,  10.])"
      ]
     },
     "execution_count": 10,
     "metadata": {},
     "output_type": "execute_result"
    }
   ],
   "source": [
    "a"
   ]
  },
  {
   "cell_type": "code",
   "execution_count": 11,
   "metadata": {
    "collapsed": false
   },
   "outputs": [
    {
     "data": {
      "text/plain": [
       "(5,)"
      ]
     },
     "execution_count": 11,
     "metadata": {},
     "output_type": "execute_result"
    }
   ],
   "source": [
    "a.shape"
   ]
  },
  {
   "cell_type": "code",
   "execution_count": 12,
   "metadata": {
    "collapsed": false
   },
   "outputs": [
    {
     "data": {
      "text/plain": [
       "array([[ 1.,  1.,  1.,  1.],\n",
       "       [ 1.,  1.,  1.,  1.],\n",
       "       [ 1.,  1.,  1.,  1.]])"
      ]
     },
     "execution_count": 12,
     "metadata": {},
     "output_type": "execute_result"
    }
   ],
   "source": [
    "b = np.ones([3, 4])\n",
    "b"
   ]
  },
  {
   "cell_type": "code",
   "execution_count": 13,
   "metadata": {
    "collapsed": false
   },
   "outputs": [
    {
     "data": {
      "text/plain": [
       "(3, 4)"
      ]
     },
     "execution_count": 13,
     "metadata": {},
     "output_type": "execute_result"
    }
   ],
   "source": [
    "b.shape"
   ]
  },
  {
   "cell_type": "code",
   "execution_count": 14,
   "metadata": {
    "collapsed": false
   },
   "outputs": [
    {
     "data": {
      "text/plain": [
       "array([ 1.,  1.,  1.,  1.])"
      ]
     },
     "execution_count": 14,
     "metadata": {},
     "output_type": "execute_result"
    }
   ],
   "source": [
    "b[0]"
   ]
  },
  {
   "cell_type": "code",
   "execution_count": 15,
   "metadata": {
    "collapsed": false
   },
   "outputs": [
    {
     "data": {
      "text/plain": [
       "array([[ 2.,  2.,  2.,  2.],\n",
       "       [ 1.,  1.,  1.,  1.],\n",
       "       [ 1.,  1.,  1.,  1.]])"
      ]
     },
     "execution_count": 15,
     "metadata": {},
     "output_type": "execute_result"
    }
   ],
   "source": [
    "b[0] = 2\n",
    "b"
   ]
  },
  {
   "cell_type": "code",
   "execution_count": 16,
   "metadata": {
    "collapsed": false
   },
   "outputs": [
    {
     "data": {
      "text/plain": [
       "array([ 2.,  1.,  1.])"
      ]
     },
     "execution_count": 16,
     "metadata": {},
     "output_type": "execute_result"
    }
   ],
   "source": [
    "b[:, 0]"
   ]
  },
  {
   "cell_type": "code",
   "execution_count": 17,
   "metadata": {
    "collapsed": true
   },
   "outputs": [],
   "source": [
    "b[:, 0] = 5"
   ]
  },
  {
   "cell_type": "code",
   "execution_count": 18,
   "metadata": {
    "collapsed": false
   },
   "outputs": [
    {
     "data": {
      "text/plain": [
       "array([[ 5.,  2.,  2.,  2.],\n",
       "       [ 5.,  1.,  1.,  1.],\n",
       "       [ 5.,  1.,  1.,  1.]])"
      ]
     },
     "execution_count": 18,
     "metadata": {},
     "output_type": "execute_result"
    }
   ],
   "source": [
    "b"
   ]
  },
  {
   "cell_type": "code",
   "execution_count": 20,
   "metadata": {
    "collapsed": false
   },
   "outputs": [
    {
     "data": {
      "text/plain": [
       "array([[  5.,   2.,   2.,   2.],\n",
       "       [  5.,   1.,   1.,   1.],\n",
       "       [  5.,   1.,   1.,  10.]])"
      ]
     },
     "execution_count": 20,
     "metadata": {},
     "output_type": "execute_result"
    }
   ],
   "source": [
    "b[-1, -1] = 10\n",
    "b"
   ]
  },
  {
   "cell_type": "code",
   "execution_count": 24,
   "metadata": {
    "collapsed": false
   },
   "outputs": [
    {
     "data": {
      "text/plain": [
       "array([  5.,   2.,   2.,   2.,   5.,   1.,   1.,   1.,   5.,   1.,   1.,\n",
       "        10.])"
      ]
     },
     "execution_count": 24,
     "metadata": {},
     "output_type": "execute_result"
    }
   ],
   "source": [
    "b.ravel()"
   ]
  },
  {
   "cell_type": "code",
   "execution_count": 59,
   "metadata": {
    "collapsed": false
   },
   "outputs": [
    {
     "data": {
      "text/plain": [
       "array([ 0,  1,  2,  3,  4,  5,  6,  7,  8,  9, 10, 11, 12, 13, 14, 15, 16,\n",
       "       17, 18, 19, 20, 21, 22, 23, 24, 25, 26, 27, 28, 29])"
      ]
     },
     "execution_count": 59,
     "metadata": {},
     "output_type": "execute_result"
    }
   ],
   "source": [
    "np.arange(30)"
   ]
  },
  {
   "cell_type": "code",
   "execution_count": 60,
   "metadata": {
    "collapsed": false
   },
   "outputs": [
    {
     "data": {
      "text/plain": [
       "array([[ 0,  1,  2,  3,  4,  5],\n",
       "       [ 6,  7,  8,  9, 10, 11],\n",
       "       [12, 13, 14, 15, 16, 17],\n",
       "       [18, 19, 20, 21, 22, 23],\n",
       "       [24, 25, 26, 27, 28, 29]])"
      ]
     },
     "execution_count": 60,
     "metadata": {},
     "output_type": "execute_result"
    }
   ],
   "source": [
    "np.arange(30).reshape(5, 6)"
   ]
  },
  {
   "cell_type": "markdown",
   "metadata": {},
   "source": [
    "Arrays are just lots of numbers placed next to each other in memory. Numpy remembers the shape they are supposed to have and presents it to us and the algorithms as vectors or matrices or higher-dimensional arrays.\n",
    "\n",
    "Arrays are so general, they can serve many many purposes:\n",
    "\n",
    "#### Coordinates"
   ]
  },
  {
   "cell_type": "code",
   "execution_count": 31,
   "metadata": {
    "collapsed": false
   },
   "outputs": [
    {
     "name": "stdout",
     "output_type": "stream",
     "text": [
      "[[0 1 1 0 0]\n",
      " [0 0 2 1 0]]\n"
     ]
    }
   ],
   "source": [
    "coords = np.array([[0, 0], [1, 0], [1, 2], [0, 1], [0, 0]]).T\n",
    "print(coords)"
   ]
  },
  {
   "cell_type": "code",
   "execution_count": 33,
   "metadata": {
    "collapsed": false
   },
   "outputs": [
    {
     "data": {
      "text/plain": [
       "[-1, 10, -1, 10]"
      ]
     },
     "execution_count": 33,
     "metadata": {},
     "output_type": "execute_result"
    },
    {
     "data": {
      "image/png": "[encoded data removed]",
      "text/plain": [
       "<matplotlib.figure.Figure at 0x7fce1ba72d50>"
      ]
     },
     "metadata": {},
     "output_type": "display_data"
    }
   ],
   "source": [
    "plt.plot(coords[0], coords[1])\n",
    "plt.axis([-1, 10, -1, 10])"
   ]
  },
  {
   "cell_type": "markdown",
   "metadata": {},
   "source": [
    "#### shift vectors"
   ]
  },
  {
   "cell_type": "code",
   "execution_count": 38,
   "metadata": {
    "collapsed": false
   },
   "outputs": [
    {
     "data": {
      "text/plain": [
       "[-1, 10, -1, 10]"
      ]
     },
     "execution_count": 38,
     "metadata": {},
     "output_type": "execute_result"
    },
    {
     "data": {
      "image/png": "[encoded data removed]",
      "text/plain": [
       "<matplotlib.figure.Figure at 0x7fce1b7f1090>"
      ]
     },
     "metadata": {},
     "output_type": "display_data"
    }
   ],
   "source": [
    "translation = np.array([[1.5], [1]])\n",
    "for i in range(5):\n",
    "    shifted = coords + translation * i\n",
    "    plt.plot(shifted[0], shifted[1])\n",
    "plt.axis([-1, 10, -1, 10])"
   ]
  },
  {
   "cell_type": "markdown",
   "metadata": {},
   "source": [
    "#### Matrix multiplications (linear operations), such as rotations"
   ]
  },
  {
   "cell_type": "code",
   "execution_count": 48,
   "metadata": {
    "collapsed": false
   },
   "outputs": [
    {
     "data": {
      "text/plain": [
       "[-1, 10, -1, 10]"
      ]
     },
     "execution_count": 48,
     "metadata": {},
     "output_type": "execute_result"
    },
    {
     "data": {
      "image/png": "[encoded data removed]",
      "text/plain": [
       "<matplotlib.figure.Figure at 0x7fce1bb93910>"
      ]
     },
     "metadata": {},
     "output_type": "display_data"
    }
   ],
   "source": [
    "angle = 20. * np.pi / 180\n",
    "translation = np.array([[.5], [.6]])\n",
    "rot = np.array([[np.cos(angle), -np.sin(angle)], [np.sin(angle), np.cos(angle)]])\n",
    "rotation = np.eye(2)\n",
    "for i in range(0, 10):\n",
    "    rotated = rotation.dot(coords)\n",
    "    shifted = rotated + i * translation\n",
    "    rotation = rotation.dot(rot)\n",
    "    plt.plot(shifted[0], shifted[1])\n",
    "\n",
    "plt.axis('square')\n",
    "plt.axis([-1, 10, -1, 10])"
   ]
  },
  {
   "cell_type": "markdown",
   "metadata": {},
   "source": [
    "#### Images\n",
    "Arrays of intensity values are the standard way of representing images"
   ]
  },
  {
   "cell_type": "code",
   "execution_count": 50,
   "metadata": {
    "collapsed": false
   },
   "outputs": [
    {
     "data": {
      "text/plain": [
       "array([[  0.,   0.,   5.,  13.,   9.,   1.,   0.,   0.],\n",
       "       [  0.,   0.,  13.,  15.,  10.,  15.,   5.,   0.],\n",
       "       [  0.,   3.,  15.,   2.,   0.,  11.,   8.,   0.],\n",
       "       [  0.,   4.,  12.,   0.,   0.,   8.,   8.,   0.],\n",
       "       [  0.,   5.,   8.,   0.,   0.,   9.,   8.,   0.],\n",
       "       [  0.,   4.,  11.,   0.,   1.,  12.,   7.,   0.],\n",
       "       [  0.,   2.,  14.,   5.,  10.,  12.,   0.,   0.],\n",
       "       [  0.,   0.,   6.,  13.,  10.,   0.,   0.,   0.]])"
      ]
     },
     "execution_count": 50,
     "metadata": {},
     "output_type": "execute_result"
    }
   ],
   "source": [
    "from sklearn.datasets import load_digits\n",
    "digits = load_digits()\n",
    "digits.images[0]"
   ]
  },
  {
   "cell_type": "code",
   "execution_count": 53,
   "metadata": {
    "collapsed": false
   },
   "outputs": [
    {
     "data": {
      "text/plain": [
       "array([[0, 0, 1, 1, 1, 1, 0, 0],\n",
       "       [0, 0, 1, 1, 1, 1, 1, 0],\n",
       "       [0, 1, 1, 1, 0, 1, 1, 0],\n",
       "       [0, 1, 1, 0, 0, 1, 1, 0],\n",
       "       [0, 1, 1, 0, 0, 1, 1, 0],\n",
       "       [0, 1, 1, 0, 1, 1, 1, 0],\n",
       "       [0, 1, 1, 1, 1, 1, 0, 0],\n",
       "       [0, 0, 1, 1, 1, 0, 0, 0]])"
      ]
     },
     "execution_count": 53,
     "metadata": {},
     "output_type": "execute_result"
    }
   ],
   "source": [
    "(digits.images[0] > 0).astype(int)"
   ]
  },
  {
   "cell_type": "code",
   "execution_count": 57,
   "metadata": {
    "collapsed": false
   },
   "outputs": [
    {
     "data": {
      "image/png": "[encoded data removed]",
      "text/plain": [
       "<matplotlib.figure.Figure at 0x7fce1b597910>"
      ]
     },
     "metadata": {},
     "output_type": "display_data"
    },
    {
     "data": {
      "image/png": "[encoded data removed]",
      "text/plain": [
       "<matplotlib.figure.Figure at 0x7fce1b5814d0>"
      ]
     },
     "metadata": {},
     "output_type": "display_data"
    }
   ],
   "source": [
    "plt.matshow(digits.images[0])\n",
    "plt.matshow(digits.images[0] > 0)\n",
    "plt.gray()"
   ]
  },
  {
   "cell_type": "markdown",
   "metadata": {},
   "source": [
    "### Machine Learning: Classification problems\n",
    "\n",
    "An important subcategory of machine learning problems is the classification problem: The task is to determine which category a given sample belongs to. The range of examples for this type of problem is vast. Here we will look at the classification of digits from 0 to 9. But before that, let's take a look at an even simpler problem: 2D point clouds"
   ]
  },
  {
   "cell_type": "code",
   "execution_count": 2,
   "metadata": {
    "collapsed": false
   },
   "outputs": [
    {
     "data": {
      "text/plain": [
       "<matplotlib.collections.PathCollection at 0x7fcd07029150>"
      ]
     },
     "execution_count": 2,
     "metadata": {},
     "output_type": "execute_result"
    },
    {
     "data": {
      "image/png": "[encoded data removed]",
      "text/plain": [
       "<matplotlib.figure.Figure at 0x7fcd08be4d50>"
      ]
     },
     "metadata": {},
     "output_type": "display_data"
    }
   ],
   "source": [
    "from sklearn import datasets\n",
    "Xc, yc = datasets.make_classification(n_samples=500, n_features=2, n_informative=2, n_redundant=0, n_clusters_per_class=1)\n",
    "plt.scatter(Xc[:, 0], Xc[:, 1], color=np.array(['r', 'b'])[yc])"
   ]
  },
  {
   "cell_type": "code",
   "execution_count": 3,
   "metadata": {
    "collapsed": false
   },
   "outputs": [
    {
     "data": {
      "text/plain": [
       "[<matplotlib.lines.Line2D at 0x7fcd3fb49990>]"
      ]
     },
     "execution_count": 3,
     "metadata": {},
     "output_type": "execute_result"
    },
    {
     "data": {
      "image/png": "[encoded data removed]",
      "text/plain": [
       "<matplotlib.figure.Figure at 0x7fcd025d81d0>"
      ]
     },
     "metadata": {},
     "output_type": "display_data"
    }
   ],
   "source": [
    "from sklearn.linear_model import LogisticRegression\n",
    "lr = LogisticRegression(C=1e5).fit(Xc, yc)\n",
    "xs = np.linspace(Xc[:, 0].min(), Xc[:, 0].max(), 100)\n",
    "ys = -lr.intercept_ / lr.coef_[0, 1] - xs * lr.coef_[0, 0] / lr.coef_[0, 1]\n",
    "mask = (ys > Xc[:, 1].min()) & (ys < Xc[:, 1].max())\n",
    "xs, ys = xs[mask], ys[mask]\n",
    "plt.scatter(Xc[:, 0], Xc[:, 1], color=np.array(['r', 'b'])[yc])\n",
    "plt.plot(xs, ys, 'g', lw=4)"
   ]
  },
  {
   "cell_type": "code",
   "execution_count": 4,
   "metadata": {
    "collapsed": false
   },
   "outputs": [],
   "source": [
    "# Download digits if not provided\n",
    "import os, cPickle, gzip\n",
    "if not os.path.exists('mnist.pkl'):\n",
    "    \n",
    "    if os.path.exists('mnist.pkl.gz'):\n",
    "        mnist = cPickle.load(gzip.open('mnist.pkl.gz'))\n",
    "    else:\n",
    "        print('Downloading MNIST')\n",
    "        import urllib2\n",
    "        mnist_file = urllib2.urlopen(\"http://deeplearning.net/data/mnist/mnist.pkl.gz\")\n",
    "        out = open('mnist.pkl.gz', 'wb')\n",
    "        out.write(mnist_file.read())\n",
    "        out.close()\n",
    "        mnist = cPickle.load(gzip.open('mnist.pkl.gz'))\n",
    "        print('done')\n",
    "else:\n",
    "    mnist = cPickle.load(open(mnist.pkl))\n",
    "\n",
    "(Xtrain, ytrain), (Xval, yval), (Xtest, ytest) = mnist"
   ]
  },
  {
   "cell_type": "code",
   "execution_count": 5,
   "metadata": {
    "collapsed": false
   },
   "outputs": [
    {
     "name": "stdout",
     "output_type": "stream",
     "text": [
      "[[5 0 4 1 9 2 1 3 1 4]\n",
      " [3 5 3 6 1 7 2 8 6 9]\n",
      " [4 0 9 1 1 2 4 3 2 7]\n",
      " [3 8 6 9 0 5 6 0 7 6]\n",
      " [1 8 7 9 3 9 8 5 9 3]\n",
      " [3 0 7 4 9 8 0 9 4 1]\n",
      " [4 4 6 0 4 5 6 1 0 0]\n",
      " [1 7 1 6 3 0 2 1 1 7]\n",
      " [9 0 2 6 7 8 3 9 0 4]\n",
      " [6 7 4 6 8 0 7 8 3 1]]\n"
     ]
    },
    {
     "data": {
      "image/png": "[encoded data removed]",
      "text/plain": [
       "<matplotlib.figure.Figure at 0x7fcd08be49d0>"
      ]
     },
     "metadata": {},
     "output_type": "display_data"
    }
   ],
   "source": [
    "plt.matshow(Xtrain.reshape(-1, 28, 28)[:100].reshape(10, 10, 28, 28).transpose(0, 2, 1, 3).reshape(10 * 28, -1))\n",
    "plt.gray()\n",
    "print(ytrain[:100].reshape(10, 10))"
   ]
  },
  {
   "cell_type": "markdown",
   "metadata": {},
   "source": [
    "## Theano\n",
    "\n",
    "The same basic numerical entities also exist in Theano and we can use them the same way we use numpy."
   ]
  },
  {
   "cell_type": "code",
   "execution_count": 6,
   "metadata": {
    "collapsed": true
   },
   "outputs": [],
   "source": [
    "import theano\n",
    "import theano.tensor as T"
   ]
  },
  {
   "cell_type": "code",
   "execution_count": 79,
   "metadata": {
    "collapsed": false
   },
   "outputs": [
    {
     "name": "stdout",
     "output_type": "stream",
     "text": [
      "<TensorType(float32, vector)>\n"
     ]
    }
   ],
   "source": [
    "x = T.fvector()\n",
    "print x"
   ]
  },
  {
   "cell_type": "markdown",
   "metadata": {},
   "source": [
    "$y = x^2$"
   ]
  },
  {
   "cell_type": "code",
   "execution_count": 80,
   "metadata": {
    "collapsed": false
   },
   "outputs": [],
   "source": [
    "y = x ** 2"
   ]
  },
  {
   "cell_type": "code",
   "execution_count": 81,
   "metadata": {
    "collapsed": false
   },
   "outputs": [
    {
     "data": {
      "text/plain": [
       "Elemwise{pow,no_inplace}.0"
      ]
     },
     "execution_count": 81,
     "metadata": {},
     "output_type": "execute_result"
    }
   ],
   "source": [
    "y"
   ]
  },
  {
   "cell_type": "markdown",
   "metadata": {},
   "source": [
    "$z = \\frac{1}{y + 1} = \\frac{1}{x^2 + 1}$"
   ]
  },
  {
   "cell_type": "code",
   "execution_count": 82,
   "metadata": {
    "collapsed": true
   },
   "outputs": [],
   "source": [
    "z = 1. / (y + 1)"
   ]
  },
  {
   "cell_type": "code",
   "execution_count": 83,
   "metadata": {
    "collapsed": false
   },
   "outputs": [
    {
     "data": {
      "text/plain": [
       "Elemwise{true_div,no_inplace}.0"
      ]
     },
     "execution_count": 83,
     "metadata": {},
     "output_type": "execute_result"
    }
   ],
   "source": [
    "z"
   ]
  },
  {
   "cell_type": "code",
   "execution_count": 84,
   "metadata": {
    "collapsed": true
   },
   "outputs": [],
   "source": [
    "f = theano.function([x], z)"
   ]
  },
  {
   "cell_type": "code",
   "execution_count": 85,
   "metadata": {
    "collapsed": false
   },
   "outputs": [
    {
     "data": {
      "text/plain": [
       "array([ 1.], dtype=float32)"
      ]
     },
     "execution_count": 85,
     "metadata": {},
     "output_type": "execute_result"
    }
   ],
   "source": [
    "f(np.array([0.], dtype='float32'))"
   ]
  },
  {
   "cell_type": "code",
   "execution_count": 86,
   "metadata": {
    "collapsed": true
   },
   "outputs": [],
   "source": [
    "xs = np.arange(-3., 3., .01, dtype='float32')"
   ]
  },
  {
   "cell_type": "code",
   "execution_count": 87,
   "metadata": {
    "collapsed": false
   },
   "outputs": [
    {
     "data": {
      "text/plain": [
       "[<matplotlib.lines.Line2D at 0x7faad4182dd0>]"
      ]
     },
     "execution_count": 87,
     "metadata": {},
     "output_type": "execute_result"
    },
    {
     "data": {
      "image/png": "[encoded data removed]",
      "text/plain": [
       "<matplotlib.figure.Figure at 0x7faaa8ee19d0>"
      ]
     },
     "metadata": {},
     "output_type": "display_data"
    }
   ],
   "source": [
    "plt.plot(xs, f(xs))"
   ]
  },
  {
   "cell_type": "markdown",
   "metadata": {},
   "source": [
    "### Logistic Regression\n",
    "\n",
    "Logistic regression can be seen as a 1-layer neural network with zero hidden units\n",
    "\n",
    "<img src=\"http://homepages.gold.ac.uk/nikolaev/perceptr.gif\">\n",
    "\n",
    "It takes the input vector $x\\in\\mathbb{R}^q$ and calculates a weighted sum of its elements $x_i$ with a set of weights $w_i$. After adding a constant offset $b$, it is sent through a non-linearity $$\\sigma(t)=\\frac{1}{1 + e^{-t}},$$ called a sigmoid. The formula is as follows:\n",
    "\n",
    "$$p(x) = \\sigma\\left(b + \\sum_{i=1}^qx_iw_i\\right)$$\n",
    "\n",
    "Using vector notation, we can write this as $$p(x) = \\sigma(b + x^Tw)$$\n",
    "\n",
    "For practical reasons, we would like to do this for many samples at once, so we stack them as lines of a matrix\n",
    "\n",
    "$$X = \\left(\\begin{array}{c} {x^1}^T\\\\\\vdots\\\\{x^n}^T\\end{array}\\right) = \\left(\\begin{array}{ccc}x^1_1 & \\dots & x^1_q\\\\\n",
    "\\vdots & \\dots & \\vdots\\\\x^n_1 & \\dots & x^n_q\\end{array}\\right)$$\n",
    "\n",
    "With this representation of many samples, we can write\n",
    "\n",
    "$$p(X) = \\sigma(b + Xw)$$\n",
    "\n",
    "So let's code it:\n",
    "- the input vector $x$ will be a placeholder variable as shown above\n",
    "- the weights and the bias actually need to be stored somewhere, so we will use variables that can store values called *shared* variables"
   ]
  },
  {
   "cell_type": "code",
   "execution_count": 62,
   "metadata": {
    "collapsed": false
   },
   "outputs": [],
   "source": [
    "n = 2\n",
    "\n",
    "X = T.fmatrix()\n",
    "b = theano.shared(np.zeros((1,), dtype='float32'))\n",
    "b = theano.shared(np.cast['float32'](0))\n",
    "w = theano.shared(np.random.randn(n).astype('float32'))\n",
    "y = T.ivector()\n",
    "\n",
    "def sigmoid(t):\n",
    "    return 1. / (1. + T.exp(-t))"
   ]
  },
  {
   "cell_type": "code",
   "execution_count": 64,
   "metadata": {
    "collapsed": false
   },
   "outputs": [],
   "source": [
    "p = sigmoid(X.dot(w) + b)"
   ]
  },
  {
   "cell_type": "code",
   "execution_count": 120,
   "metadata": {
    "collapsed": false
   },
   "outputs": [
    {
     "data": {
      "text/plain": [
       "Elemwise{true_div,no_inplace}.0"
      ]
     },
     "execution_count": 120,
     "metadata": {},
     "output_type": "execute_result"
    }
   ],
   "source": [
    "p"
   ]
  },
  {
   "cell_type": "markdown",
   "metadata": {},
   "source": [
    "Let's take a look at what `p` would do to our classification data. For this, we need to create a function as above"
   ]
  },
  {
   "cell_type": "code",
   "execution_count": 65,
   "metadata": {
    "collapsed": true
   },
   "outputs": [],
   "source": [
    "f_prob = theano.function([X], p)"
   ]
  },
  {
   "cell_type": "markdown",
   "metadata": {},
   "source": [
    "We make a grid of values in order to be able to show where our function puts which probability"
   ]
  },
  {
   "cell_type": "code",
   "execution_count": null,
   "metadata": {
    "collapsed": true
   },
   "outputs": [],
   "source": [
    "magn = 20\n",
    "xmin, xmax, ymin, ymax = box = [Xc[:, 0].min(), Xc[:, 0].max(), Xc[:, 1].min(), Xc[:, 1].max()]\n",
    "grid = np.mgrid[xmin:xmax:magn * 1j, ymin:ymax:magn * 1j].astype('float32')\n",
    "grid_points = grid.reshape(2, -1).T"
   ]
  },
  {
   "cell_type": "markdown",
   "metadata": {},
   "source": [
    "Using this grid, we evaluate our function"
   ]
  },
  {
   "cell_type": "code",
   "execution_count": null,
   "metadata": {
    "collapsed": true
   },
   "outputs": [],
   "source": [
    "probs = f_prob(grid_points)\n",
    "prob_image = probs.reshape(grid.shape[1:])"
   ]
  },
  {
   "cell_type": "markdown",
   "metadata": {},
   "source": [
    "And then we plot it, including the 0.5 probability decision boundary"
   ]
  },
  {
   "cell_type": "code",
   "execution_count": 67,
   "metadata": {
    "collapsed": false
   },
   "outputs": [
    {
     "data": {
      "text/plain": [
       "<matplotlib.image.AxesImage at 0x7fccf9b76950>"
      ]
     },
     "execution_count": 67,
     "metadata": {},
     "output_type": "execute_result"
    },
    {
     "data": {
      "image/png": "[encoded data removed]",
      "text/plain": [
       "<matplotlib.figure.Figure at 0x7fccfa013210>"
      ]
     },
     "metadata": {},
     "output_type": "display_data"
    }
   ],
   "source": [
    "plt.scatter(Xc[:, 0], Xc[:, 1], color=np.array(['r', 'b'])[yc])\n",
    "xs = np.linspace(xmin, xmax, 100)\n",
    "coef = w.get_value()\n",
    "intercept = b.get_value()\n",
    "ys = -intercept / coef[1] - xs * coef[0] / coef[1]\n",
    "plt.plot(xs, ys, 'g', lw=3)\n",
    "plt.imshow(prob_image.T, extent=box, zorder=0, origin='lower')"
   ]
  },
  {
   "cell_type": "markdown",
   "metadata": {
    "collapsed": false
   },
   "source": [
    "The classification is necessarily wrong, since we chose random values for the decision boundary. Now we need to find a way of choosing this boundary correctly. We will do it by optimizing a criterion, which is to maximize the joint probability of classifying all our data points correctly.\n",
    "\n",
    "Given the datapoint/class couples $(x_i, y_i)$, with $y_i\\in\\{0, 1\\}$, the outputs of the sigmoids $p(x_i)$ will be taken as probabilities of the datapoint having label $1$. Conversely, $1 - p(x_i)$ will be taken as the probability of $x_i$ having label 0.\n",
    "\n",
    "So, for any given data point, the probability of being classified correctly is \n",
    "$$r(x_i, y_i) = \\left\\{\\begin{array}{cl}p(x_i) & \\textrm{if } y_i = 1\\\\(1 - p(x_i)) & \\textrm{if } y_i = 0\\end{array}\\right.$$\n",
    "\n",
    "With a little trick, we can write this concisely as\n",
    "$$r(x_i, y_i) = p(x_i)^{y_i}(1 - p(xi))^{(1 - y_i)}$$\n",
    "\n",
    "Now, the probability of classifying all data points correctly is, assuming their statistical independence:\n",
    "\n",
    "$$P = \\prod_{i=1}^n r(x_i, y_i)$$\n",
    "\n",
    "We would like to have this value be as close to 1 as possible. However, since most probabilities are less than 1 and we are multiplying very many of them together, the value of $P$ will shrink towards 0 very fast and be almost indistiguishable from it. To tease things apart, to be able to compare and not immediately have numerical errors, we choose to optimize $\\log P$, called the loglikelihood. For very small values of $P$ it will become strongly negative, but will use the full range of the negative reals to tease apart very small probabilities.\n",
    "\n",
    "We can now write the following due to the properties of the log:\n",
    "$$-\\mathcal L = \\log P = \\log\\prod_i r(x_i, y_i) = \\sum_i\\log r(x_i, y_i)$$\n",
    "\n",
    "Further refining we obtain\n",
    "$$\\mathcal L =-\\log P = -\\sum_i\\log \\left(p(x_i)^{y_i}(1 - p(xi))^{(1 - y_i)}\\right)=-\\sum_i \\left(y_i\\log p(x_i) + (1 - y_i)\\log(1 - p(x_i))\\right)$$\n",
    "\n",
    "The latter is a formula we can easily write in Theano"
   ]
  },
  {
   "cell_type": "code",
   "execution_count": null,
   "metadata": {
    "collapsed": false
   },
   "outputs": [],
   "source": [
    "L = -(p.dot(y) + (1 - p).dot(1 - y)).mean()"
   ]
  },
  {
   "cell_type": "markdown",
   "metadata": {
    "collapsed": false
   },
   "source": [
    "But how do we now optimize it to get a better decision boundary? The answer is: step by step. If we move the weights and the bias in the right direction little by little, then $\\mathcal L$ will converge towards a minimum. What is the right direction? We can calculate the gradient for that"
   ]
  },
  {
   "cell_type": "code",
   "execution_count": 17,
   "metadata": {
    "collapsed": true
   },
   "outputs": [],
   "source": [
    "grad_w, grad_b = T.grad(L, wrt=[w, b])"
   ]
  },
  {
   "cell_type": "markdown",
   "metadata": {
    "collapsed": true
   },
   "source": [
    "Using the gradients, we can then update the weights by a small increment in that direction. The size of the increment is called *learning rate*"
   ]
  },
  {
   "cell_type": "code",
   "execution_count": null,
   "metadata": {
    "collapsed": true
   },
   "outputs": [],
   "source": [
    "learning_rate = 0.1\n",
    "updates = [(w, w - learning_rate * grad_w), (b, b - learning_rate * grad_b)]"
   ]
  },
  {
   "cell_type": "markdown",
   "metadata": {},
   "source": [
    "Theano belongs to the functional programming paradigm. However, at some point, assigning values to variables, e.g. updating weights, becomes necessary. These updates happen at function evaluation time if we ask for it."
   ]
  },
  {
   "cell_type": "code",
   "execution_count": null,
   "metadata": {
    "collapsed": true
   },
   "outputs": [],
   "source": [
    "f_train = theano.function([X, y], L, updates=updates)\n",
    "f_eval = theano.function([X, y], [L, (T.eq((p > 0.5), y)).mean()])"
   ]
  },
  {
   "cell_type": "code",
   "execution_count": null,
   "metadata": {
    "collapsed": true
   },
   "outputs": [],
   "source": [
    "from sklearn.cross_validation import train_test_split\n",
    "(Xctrain, Xctest), (yctrain, yctest) = train_test_split(Xc, yc, test_size=100)\n",
    "\n",
    "plt.scatter(Xctrain[:, 0], Xctrain[:, 1], color=np.array(['r', 'b'])[yctrain])\n",
    "plt.plot(xs, ys, 'g', lw=3)\n",
    "plt.imshow(prob_image.T, extent=box, zorder=0, origin='lower')"
   ]
  },
  {
   "cell_type": "markdown",
   "metadata": {},
   "source": [
    "Now let's train it and keep track of some values"
   ]
  },
  {
   "cell_type": "code",
   "execution_count": null,
   "metadata": {
    "collapsed": true
   },
   "outputs": [],
   "source": [
    "block_size = 10\n",
    "n_epochs = 20\n",
    "\n",
    "all_train_errors = []\n",
    "train_L = []\n",
    "train_accuracy = []\n",
    "test_L = []\n",
    "test_accuracy = []\n",
    "\n",
    "batch_counter = 0\n",
    "epoch_counter = 0\n",
    "\n",
    "for epoch in range(n_epochs):\n",
    "    epoch_counter += 1\n",
    "    for block in range(0, len(Xctrain), block_size):\n",
    "        batch_counter += 1\n",
    "        all_train_errors.append(f_train(Xctrain[block:block + block_size],\n",
    "                                        yctrain[block:block + block_size]))\n",
    "    l, a = f_eval(Xctest, yctest)\n",
    "    test_L.append(L)\n",
    "    test_accuracy.append(a)\n",
    "    l, a = f_eval(Xctrain, yctrain)\n",
    "    train_L.append(L)\n",
    "    train_accuracy.append(a)"
   ]
  },
  {
   "cell_type": "code",
   "execution_count": null,
   "metadata": {
    "collapsed": true
   },
   "outputs": [],
   "source": [
    "plt.figure()\n",
    "plt.plot(epoch_counter, train_L, 'b', label='train_L')\n",
    "plt.plot(epoch_counter, test_L, 'r', label='test_L')"
   ]
  },
  {
   "cell_type": "markdown",
   "metadata": {},
   "source": [
    "Let us take a look at the change"
   ]
  },
  {
   "cell_type": "code",
   "execution_count": null,
   "metadata": {
    "collapsed": true
   },
   "outputs": [],
   "source": [
    "probs = f_prob(grid_points)\n",
    "prob_image = probs.reshape(grid.shape[1:])\n",
    "plt.scatter(Xctrain[:, 0], Xctrain[:, 1], color=np.array(['r', 'b'])[yctrain])\n",
    "plt.plot(xs, ys, 'g.-', lw=1)\n",
    "coef = w.get_value()\n",
    "intercept = b.get_value()\n",
    "ys = -intercept / coef[1] - xs * coef[0] / coef[1]\n",
    "plt.plot(xs, ys, 'g', lw=3)\n",
    "plt.imshow(prob_image.T, extent=box, zorder=0, origin='lower')"
   ]
  },
  {
   "cell_type": "markdown",
   "metadata": {},
   "source": [
    "### Logistic Regression for digits\n",
    "\n",
    "Now we move on to digits, applying a multiclass logistic regression in essentially the same way"
   ]
  },
  {
   "cell_type": "code",
   "execution_count": null,
   "metadata": {
    "collapsed": true
   },
   "outputs": [],
   "source": [
    "import theano\n",
    "import theano.tensor as T\n",
    "import numpy as np\n",
    "\n",
    "rng = np.random.RandomState(42)\n",
    "\n",
    "W = theano.shared(rng.randn(784, 10).astype('float32'))\n",
    "b = theano.shared(np.zeros((10,), dtype='float32'))\n",
    "\n",
    "X = T.fmatrix()\n",
    "y = T.ivector()\n",
    "\n",
    "p = T.nnet.softmax(X.dot(W) + b)\n",
    "\n",
    "L = -T.log(p[T.arange(y.shape[0]), y]).mean()\n",
    "grad_W, grad_b = T.grad(L, wrt=[W, b])\n"
   ]
  },
  {
   "cell_type": "code",
   "execution_count": null,
   "metadata": {
    "collapsed": true
   },
   "outputs": [],
   "source": [
    "learning_rate = 0.01\n",
    "batch_size = 128\n",
    "\n",
    "Xstrain, ystrain = theano.shared(Xtrain), theano.shared(ytrain)\n",
    "i = T.iscalar()\n",
    "\n",
    "updates = [(w, W - learning_rate * grad_W), (b, b - learning_rate * grad_b)]\n",
    "givens = [(X, Xstrain[i:i + batch_size]), (y, ystrain[i:i + batch_size])]\n",
    "\n",
    "f_train = theano.function([i], L, givens=givens, updates=updates)\n",
    "f_val = theano.function([X, y], [L, T.eq(p.argmax(axis=1), y).mean()])"
   ]
  },
  {
   "cell_type": "code",
   "execution_count": null,
   "metadata": {
    "collapsed": true
   },
   "outputs": [],
   "source": [
    "n_epochs = 10\n",
    "\n",
    "all_train_errors = []\n",
    "train_L = []\n",
    "train_accuracy = []\n",
    "val_L = []\n",
    "val_accuracy = []\n",
    "\n",
    "batch_counter = 0\n",
    "epoch_counter = 0\n",
    "\n",
    "\n",
    "for epoch in range(n_epochs):\n",
    "    for batch in range(0, Xtrain.shape[0], batch_size):\n",
    "        all_train_errors.append(f_train(batch))\n",
    "    l, a = f_val(Xval, yval)\n",
    "    val_L.append(l)\n",
    "    val_accuracy.append(a)\n",
    "    l, a = f_val(Xtrain, ytrain)\n",
    "    train_L.append(l)\n",
    "    train_accuracy.append(a)\n"
   ]
  }
 ],
 "metadata": {
  "kernelspec": {
   "display_name": "Python 2",
   "language": "python",
   "name": "python2"
  },
  "language_info": {
   "codemirror_mode": {
    "name": "ipython",
    "version": 2
   },
   "file_extension": ".py",
   "mimetype": "text/x-python",
   "name": "python",
   "nbconvert_exporter": "python",
   "pygments_lexer": "ipython2",
   "version": "2.7.10"
  }
 },
 "nbformat": 4,
 "nbformat_minor": 0
}
